{
  "nbformat": 4,
  "nbformat_minor": 0,
  "metadata": {
    "colab": {
      "name": "House price Prediction with DL.ipynb",
      "provenance": []
    },
    "kernelspec": {
      "name": "python3",
      "display_name": "Python 3"
    }
  },
  "cells": [
    {
      "cell_type": "code",
      "metadata": {
        "id": "eOmGH8rnPNUF",
        "colab_type": "code",
        "colab": {}
      },
      "source": [
        "from keras.models import Sequential\n",
        "from keras.layers import Dense\n",
        "from sklearn.model_selection import train_test_split\n",
        "from sklearn.preprocessing import MinMaxScaler\n",
        "import matplotlib.pyplot as plt\n",
        "import pandas as pd\n",
        "#https://www.kaggle.com/moewie94/housepricedata"
      ],
      "execution_count": 1,
      "outputs": []
    },
    {
      "cell_type": "code",
      "metadata": {
        "id": "-TtPyubCUj4O",
        "colab_type": "code",
        "colab": {
          "base_uri": "https://localhost:8080/",
          "height": 222
        },
        "outputId": "b0db071c-80fe-4798-c908-2522556b482f"
      },
      "source": [
        "df = pd.read_csv(\"housepricedata.csv\")\n",
        "df.head()"
      ],
      "execution_count": 3,
      "outputs": [
        {
          "output_type": "execute_result",
          "data": {
            "text/html": [
              "<div>\n",
              "<style scoped>\n",
              "    .dataframe tbody tr th:only-of-type {\n",
              "        vertical-align: middle;\n",
              "    }\n",
              "\n",
              "    .dataframe tbody tr th {\n",
              "        vertical-align: top;\n",
              "    }\n",
              "\n",
              "    .dataframe thead th {\n",
              "        text-align: right;\n",
              "    }\n",
              "</style>\n",
              "<table border=\"1\" class=\"dataframe\">\n",
              "  <thead>\n",
              "    <tr style=\"text-align: right;\">\n",
              "      <th></th>\n",
              "      <th>LotArea</th>\n",
              "      <th>OverallQual</th>\n",
              "      <th>OverallCond</th>\n",
              "      <th>TotalBsmtSF</th>\n",
              "      <th>FullBath</th>\n",
              "      <th>HalfBath</th>\n",
              "      <th>BedroomAbvGr</th>\n",
              "      <th>TotRmsAbvGrd</th>\n",
              "      <th>Fireplaces</th>\n",
              "      <th>GarageArea</th>\n",
              "      <th>AboveMedianPrice</th>\n",
              "    </tr>\n",
              "  </thead>\n",
              "  <tbody>\n",
              "    <tr>\n",
              "      <th>0</th>\n",
              "      <td>8450</td>\n",
              "      <td>7</td>\n",
              "      <td>5</td>\n",
              "      <td>856</td>\n",
              "      <td>2</td>\n",
              "      <td>1</td>\n",
              "      <td>3</td>\n",
              "      <td>8</td>\n",
              "      <td>0</td>\n",
              "      <td>548</td>\n",
              "      <td>1</td>\n",
              "    </tr>\n",
              "    <tr>\n",
              "      <th>1</th>\n",
              "      <td>9600</td>\n",
              "      <td>6</td>\n",
              "      <td>8</td>\n",
              "      <td>1262</td>\n",
              "      <td>2</td>\n",
              "      <td>0</td>\n",
              "      <td>3</td>\n",
              "      <td>6</td>\n",
              "      <td>1</td>\n",
              "      <td>460</td>\n",
              "      <td>1</td>\n",
              "    </tr>\n",
              "    <tr>\n",
              "      <th>2</th>\n",
              "      <td>11250</td>\n",
              "      <td>7</td>\n",
              "      <td>5</td>\n",
              "      <td>920</td>\n",
              "      <td>2</td>\n",
              "      <td>1</td>\n",
              "      <td>3</td>\n",
              "      <td>6</td>\n",
              "      <td>1</td>\n",
              "      <td>608</td>\n",
              "      <td>1</td>\n",
              "    </tr>\n",
              "    <tr>\n",
              "      <th>3</th>\n",
              "      <td>9550</td>\n",
              "      <td>7</td>\n",
              "      <td>5</td>\n",
              "      <td>756</td>\n",
              "      <td>1</td>\n",
              "      <td>0</td>\n",
              "      <td>3</td>\n",
              "      <td>7</td>\n",
              "      <td>1</td>\n",
              "      <td>642</td>\n",
              "      <td>0</td>\n",
              "    </tr>\n",
              "    <tr>\n",
              "      <th>4</th>\n",
              "      <td>14260</td>\n",
              "      <td>8</td>\n",
              "      <td>5</td>\n",
              "      <td>1145</td>\n",
              "      <td>2</td>\n",
              "      <td>1</td>\n",
              "      <td>4</td>\n",
              "      <td>9</td>\n",
              "      <td>1</td>\n",
              "      <td>836</td>\n",
              "      <td>1</td>\n",
              "    </tr>\n",
              "  </tbody>\n",
              "</table>\n",
              "</div>"
            ],
            "text/plain": [
              "   LotArea  OverallQual  OverallCond  ...  Fireplaces  GarageArea  AboveMedianPrice\n",
              "0     8450            7            5  ...           0         548                 1\n",
              "1     9600            6            8  ...           1         460                 1\n",
              "2    11250            7            5  ...           1         608                 1\n",
              "3     9550            7            5  ...           1         642                 0\n",
              "4    14260            8            5  ...           1         836                 1\n",
              "\n",
              "[5 rows x 11 columns]"
            ]
          },
          "metadata": {
            "tags": []
          },
          "execution_count": 3
        }
      ]
    },
    {
      "cell_type": "code",
      "metadata": {
        "id": "phrpgl0CUrjC",
        "colab_type": "code",
        "colab": {
          "base_uri": "https://localhost:8080/",
          "height": 139
        },
        "outputId": "13b68f8b-6a8a-4420-b7b1-c17e905dc77a"
      },
      "source": [
        "dataset = df.values\n",
        "dataset"
      ],
      "execution_count": 4,
      "outputs": [
        {
          "output_type": "execute_result",
          "data": {
            "text/plain": [
              "array([[ 8450,     7,     5, ...,     0,   548,     1],\n",
              "       [ 9600,     6,     8, ...,     1,   460,     1],\n",
              "       [11250,     7,     5, ...,     1,   608,     1],\n",
              "       ...,\n",
              "       [ 9042,     7,     9, ...,     2,   252,     1],\n",
              "       [ 9717,     5,     6, ...,     0,   240,     0],\n",
              "       [ 9937,     5,     6, ...,     0,   276,     0]])"
            ]
          },
          "metadata": {
            "tags": []
          },
          "execution_count": 4
        }
      ]
    },
    {
      "cell_type": "code",
      "metadata": {
        "id": "RvuwMMTuU07n",
        "colab_type": "code",
        "colab": {}
      },
      "source": [
        "x = dataset[:,0:10]\n",
        "y= dataset[:,10]"
      ],
      "execution_count": 5,
      "outputs": []
    },
    {
      "cell_type": "code",
      "metadata": {
        "id": "Ak9YgWKfU2z6",
        "colab_type": "code",
        "colab": {
          "base_uri": "https://localhost:8080/",
          "height": 243
        },
        "outputId": "e6b606a2-815b-458f-ab28-684f23632ea6"
      },
      "source": [
        "min_max_scaler = MinMaxScaler()\n",
        "x_scale = min_max_scaler.fit_transform(x)\n",
        "x_scale"
      ],
      "execution_count": 6,
      "outputs": [
        {
          "output_type": "execute_result",
          "data": {
            "text/plain": [
              "array([[0.0334198 , 0.66666667, 0.5       , ..., 0.5       , 0.        ,\n",
              "        0.3864598 ],\n",
              "       [0.03879502, 0.55555556, 0.875     , ..., 0.33333333, 0.33333333,\n",
              "        0.32440056],\n",
              "       [0.04650728, 0.66666667, 0.5       , ..., 0.33333333, 0.33333333,\n",
              "        0.42877292],\n",
              "       ...,\n",
              "       [0.03618687, 0.66666667, 1.        , ..., 0.58333333, 0.66666667,\n",
              "        0.17771509],\n",
              "       [0.03934189, 0.44444444, 0.625     , ..., 0.25      , 0.        ,\n",
              "        0.16925247],\n",
              "       [0.04037019, 0.44444444, 0.625     , ..., 0.33333333, 0.        ,\n",
              "        0.19464034]])"
            ]
          },
          "metadata": {
            "tags": []
          },
          "execution_count": 6
        }
      ]
    },
    {
      "cell_type": "code",
      "metadata": {
        "id": "DG7zxgcKU23j",
        "colab_type": "code",
        "colab": {}
      },
      "source": [
        "x_train,x_val_and_test,y_train,y_val_and_test = train_test_split(x_scale,y,test_size=0.2)"
      ],
      "execution_count": 7,
      "outputs": []
    },
    {
      "cell_type": "code",
      "metadata": {
        "id": "CJfFF5CqU26t",
        "colab_type": "code",
        "colab": {}
      },
      "source": [
        "x_val,x_test,y_val,y_test = train_test_split(x_val_and_test,y_val_and_test,test_size=0.5)"
      ],
      "execution_count": 8,
      "outputs": []
    },
    {
      "cell_type": "code",
      "metadata": {
        "id": "-rj1hlPaU2-A",
        "colab_type": "code",
        "colab": {}
      },
      "source": [
        "model = Sequential()\n",
        "model.add(Dense(units=32,activation='relu',input_dim = 10))\n",
        "model.add(Dense(units=32,activation='relu'))\n",
        "model.add(Dense(units=32,activation='relu'))\n",
        "model.add(Dense(units=32,activation='relu'))\n",
        "model.add(Dense(units=1,activation='sigmoid'))\n"
      ],
      "execution_count": 10,
      "outputs": []
    },
    {
      "cell_type": "code",
      "metadata": {
        "id": "_9-pNCnpXCgA",
        "colab_type": "code",
        "colab": {}
      },
      "source": [
        "model.compile(optimizer='sgd',loss=\"binary_crossentropy\",metrics=['accuracy'])"
      ],
      "execution_count": 11,
      "outputs": []
    },
    {
      "cell_type": "code",
      "metadata": {
        "id": "G5b1gZLnYCMh",
        "colab_type": "code",
        "colab": {
          "base_uri": "https://localhost:8080/",
          "height": 1000
        },
        "outputId": "422e62a9-6726-4a74-f3d4-c8c464f561ca"
      },
      "source": [
        "hist = model.fit(x_train,y_train,batch_size=32,epochs=100,validation_data=(x_val,y_val))"
      ],
      "execution_count": 12,
      "outputs": [
        {
          "output_type": "stream",
          "text": [
            "Epoch 1/100\n",
            "37/37 [==============================] - 0s 6ms/step - loss: 0.6913 - accuracy: 0.5599 - val_loss: 0.6871 - val_accuracy: 0.6096\n",
            "Epoch 2/100\n",
            "37/37 [==============================] - 0s 1ms/step - loss: 0.6836 - accuracy: 0.6490 - val_loss: 0.6820 - val_accuracy: 0.6507\n",
            "Epoch 3/100\n",
            "37/37 [==============================] - 0s 2ms/step - loss: 0.6787 - accuracy: 0.6884 - val_loss: 0.6779 - val_accuracy: 0.6781\n",
            "Epoch 4/100\n",
            "37/37 [==============================] - 0s 2ms/step - loss: 0.6741 - accuracy: 0.6841 - val_loss: 0.6732 - val_accuracy: 0.7123\n",
            "Epoch 5/100\n",
            "37/37 [==============================] - 0s 2ms/step - loss: 0.6691 - accuracy: 0.7235 - val_loss: 0.6679 - val_accuracy: 0.7260\n",
            "Epoch 6/100\n",
            "37/37 [==============================] - 0s 2ms/step - loss: 0.6627 - accuracy: 0.7200 - val_loss: 0.6604 - val_accuracy: 0.7397\n",
            "Epoch 7/100\n",
            "37/37 [==============================] - 0s 2ms/step - loss: 0.6545 - accuracy: 0.7414 - val_loss: 0.6516 - val_accuracy: 0.7123\n",
            "Epoch 8/100\n",
            "37/37 [==============================] - 0s 2ms/step - loss: 0.6448 - accuracy: 0.7432 - val_loss: 0.6417 - val_accuracy: 0.7192\n",
            "Epoch 9/100\n",
            "37/37 [==============================] - 0s 2ms/step - loss: 0.6335 - accuracy: 0.7466 - val_loss: 0.6293 - val_accuracy: 0.7260\n",
            "Epoch 10/100\n",
            "37/37 [==============================] - 0s 1ms/step - loss: 0.6206 - accuracy: 0.7603 - val_loss: 0.6152 - val_accuracy: 0.8082\n",
            "Epoch 11/100\n",
            "37/37 [==============================] - 0s 2ms/step - loss: 0.6071 - accuracy: 0.7842 - val_loss: 0.6009 - val_accuracy: 0.8082\n",
            "Epoch 12/100\n",
            "37/37 [==============================] - 0s 2ms/step - loss: 0.5931 - accuracy: 0.7860 - val_loss: 0.5869 - val_accuracy: 0.7877\n",
            "Epoch 13/100\n",
            "37/37 [==============================] - 0s 2ms/step - loss: 0.5781 - accuracy: 0.7937 - val_loss: 0.5703 - val_accuracy: 0.8356\n",
            "Epoch 14/100\n",
            "37/37 [==============================] - 0s 2ms/step - loss: 0.5626 - accuracy: 0.8065 - val_loss: 0.5551 - val_accuracy: 0.8288\n",
            "Epoch 15/100\n",
            "37/37 [==============================] - 0s 2ms/step - loss: 0.5470 - accuracy: 0.8108 - val_loss: 0.5369 - val_accuracy: 0.8425\n",
            "Epoch 16/100\n",
            "37/37 [==============================] - 0s 2ms/step - loss: 0.5298 - accuracy: 0.8185 - val_loss: 0.5218 - val_accuracy: 0.8288\n",
            "Epoch 17/100\n",
            "37/37 [==============================] - 0s 2ms/step - loss: 0.5134 - accuracy: 0.8253 - val_loss: 0.5036 - val_accuracy: 0.8425\n",
            "Epoch 18/100\n",
            "37/37 [==============================] - 0s 2ms/step - loss: 0.4970 - accuracy: 0.8296 - val_loss: 0.4821 - val_accuracy: 0.8699\n",
            "Epoch 19/100\n",
            "37/37 [==============================] - 0s 2ms/step - loss: 0.4793 - accuracy: 0.8425 - val_loss: 0.4643 - val_accuracy: 0.8699\n",
            "Epoch 20/100\n",
            "37/37 [==============================] - 0s 2ms/step - loss: 0.4620 - accuracy: 0.8476 - val_loss: 0.4458 - val_accuracy: 0.8767\n",
            "Epoch 21/100\n",
            "37/37 [==============================] - 0s 2ms/step - loss: 0.4454 - accuracy: 0.8562 - val_loss: 0.4272 - val_accuracy: 0.8836\n",
            "Epoch 22/100\n",
            "37/37 [==============================] - 0s 2ms/step - loss: 0.4293 - accuracy: 0.8622 - val_loss: 0.4091 - val_accuracy: 0.9041\n",
            "Epoch 23/100\n",
            "37/37 [==============================] - 0s 2ms/step - loss: 0.4126 - accuracy: 0.8682 - val_loss: 0.3929 - val_accuracy: 0.8973\n",
            "Epoch 24/100\n",
            "37/37 [==============================] - 0s 2ms/step - loss: 0.3982 - accuracy: 0.8690 - val_loss: 0.3777 - val_accuracy: 0.8973\n",
            "Epoch 25/100\n",
            "37/37 [==============================] - 0s 2ms/step - loss: 0.3838 - accuracy: 0.8673 - val_loss: 0.3656 - val_accuracy: 0.8973\n",
            "Epoch 26/100\n",
            "37/37 [==============================] - 0s 1ms/step - loss: 0.3734 - accuracy: 0.8673 - val_loss: 0.3514 - val_accuracy: 0.9110\n",
            "Epoch 27/100\n",
            "37/37 [==============================] - 0s 2ms/step - loss: 0.3629 - accuracy: 0.8741 - val_loss: 0.3391 - val_accuracy: 0.9041\n",
            "Epoch 28/100\n",
            "37/37 [==============================] - 0s 2ms/step - loss: 0.3506 - accuracy: 0.8733 - val_loss: 0.3325 - val_accuracy: 0.9041\n",
            "Epoch 29/100\n",
            "37/37 [==============================] - 0s 2ms/step - loss: 0.3435 - accuracy: 0.8724 - val_loss: 0.3189 - val_accuracy: 0.8973\n",
            "Epoch 30/100\n",
            "37/37 [==============================] - 0s 2ms/step - loss: 0.3347 - accuracy: 0.8759 - val_loss: 0.3219 - val_accuracy: 0.8836\n",
            "Epoch 31/100\n",
            "37/37 [==============================] - 0s 2ms/step - loss: 0.3301 - accuracy: 0.8793 - val_loss: 0.3076 - val_accuracy: 0.9041\n",
            "Epoch 32/100\n",
            "37/37 [==============================] - 0s 1ms/step - loss: 0.3242 - accuracy: 0.8759 - val_loss: 0.3003 - val_accuracy: 0.9041\n",
            "Epoch 33/100\n",
            "37/37 [==============================] - 0s 1ms/step - loss: 0.3173 - accuracy: 0.8810 - val_loss: 0.3100 - val_accuracy: 0.8767\n",
            "Epoch 34/100\n",
            "37/37 [==============================] - 0s 2ms/step - loss: 0.3126 - accuracy: 0.8793 - val_loss: 0.2885 - val_accuracy: 0.9041\n",
            "Epoch 35/100\n",
            "37/37 [==============================] - 0s 2ms/step - loss: 0.3100 - accuracy: 0.8801 - val_loss: 0.2824 - val_accuracy: 0.8904\n",
            "Epoch 36/100\n",
            "37/37 [==============================] - 0s 2ms/step - loss: 0.3071 - accuracy: 0.8784 - val_loss: 0.2857 - val_accuracy: 0.8904\n",
            "Epoch 37/100\n",
            "37/37 [==============================] - 0s 2ms/step - loss: 0.3052 - accuracy: 0.8810 - val_loss: 0.2749 - val_accuracy: 0.8904\n",
            "Epoch 38/100\n",
            "37/37 [==============================] - 0s 2ms/step - loss: 0.3026 - accuracy: 0.8810 - val_loss: 0.2719 - val_accuracy: 0.8973\n",
            "Epoch 39/100\n",
            "37/37 [==============================] - 0s 2ms/step - loss: 0.2985 - accuracy: 0.8827 - val_loss: 0.2716 - val_accuracy: 0.8973\n",
            "Epoch 40/100\n",
            "37/37 [==============================] - 0s 2ms/step - loss: 0.2962 - accuracy: 0.8818 - val_loss: 0.2826 - val_accuracy: 0.8699\n",
            "Epoch 41/100\n",
            "37/37 [==============================] - 0s 2ms/step - loss: 0.2938 - accuracy: 0.8810 - val_loss: 0.2824 - val_accuracy: 0.8630\n",
            "Epoch 42/100\n",
            "37/37 [==============================] - 0s 2ms/step - loss: 0.2939 - accuracy: 0.8801 - val_loss: 0.2614 - val_accuracy: 0.8973\n",
            "Epoch 43/100\n",
            "37/37 [==============================] - 0s 2ms/step - loss: 0.2906 - accuracy: 0.8818 - val_loss: 0.2725 - val_accuracy: 0.8836\n",
            "Epoch 44/100\n",
            "37/37 [==============================] - 0s 2ms/step - loss: 0.2883 - accuracy: 0.8853 - val_loss: 0.2594 - val_accuracy: 0.8973\n",
            "Epoch 45/100\n",
            "37/37 [==============================] - 0s 2ms/step - loss: 0.2871 - accuracy: 0.8767 - val_loss: 0.2554 - val_accuracy: 0.9041\n",
            "Epoch 46/100\n",
            "37/37 [==============================] - 0s 2ms/step - loss: 0.2866 - accuracy: 0.8827 - val_loss: 0.2535 - val_accuracy: 0.9041\n",
            "Epoch 47/100\n",
            "37/37 [==============================] - 0s 2ms/step - loss: 0.2869 - accuracy: 0.8853 - val_loss: 0.2595 - val_accuracy: 0.8973\n",
            "Epoch 48/100\n",
            "37/37 [==============================] - 0s 2ms/step - loss: 0.2829 - accuracy: 0.8853 - val_loss: 0.2654 - val_accuracy: 0.8767\n",
            "Epoch 49/100\n",
            "37/37 [==============================] - 0s 2ms/step - loss: 0.2807 - accuracy: 0.8904 - val_loss: 0.2527 - val_accuracy: 0.9041\n",
            "Epoch 50/100\n",
            "37/37 [==============================] - 0s 2ms/step - loss: 0.2831 - accuracy: 0.8827 - val_loss: 0.2738 - val_accuracy: 0.8699\n",
            "Epoch 51/100\n",
            "37/37 [==============================] - 0s 2ms/step - loss: 0.2787 - accuracy: 0.8870 - val_loss: 0.2685 - val_accuracy: 0.8699\n",
            "Epoch 52/100\n",
            "37/37 [==============================] - 0s 2ms/step - loss: 0.2802 - accuracy: 0.8836 - val_loss: 0.2482 - val_accuracy: 0.9041\n",
            "Epoch 53/100\n",
            "37/37 [==============================] - 0s 2ms/step - loss: 0.2752 - accuracy: 0.8896 - val_loss: 0.2652 - val_accuracy: 0.8699\n",
            "Epoch 54/100\n",
            "37/37 [==============================] - 0s 2ms/step - loss: 0.2750 - accuracy: 0.8844 - val_loss: 0.2719 - val_accuracy: 0.8630\n",
            "Epoch 55/100\n",
            "37/37 [==============================] - 0s 2ms/step - loss: 0.2726 - accuracy: 0.8861 - val_loss: 0.2571 - val_accuracy: 0.8973\n",
            "Epoch 56/100\n",
            "37/37 [==============================] - 0s 2ms/step - loss: 0.2771 - accuracy: 0.8878 - val_loss: 0.2540 - val_accuracy: 0.8973\n",
            "Epoch 57/100\n",
            "37/37 [==============================] - 0s 2ms/step - loss: 0.2720 - accuracy: 0.8904 - val_loss: 0.2423 - val_accuracy: 0.9178\n",
            "Epoch 58/100\n",
            "37/37 [==============================] - 0s 1ms/step - loss: 0.2723 - accuracy: 0.8938 - val_loss: 0.2488 - val_accuracy: 0.8973\n",
            "Epoch 59/100\n",
            "37/37 [==============================] - 0s 2ms/step - loss: 0.2697 - accuracy: 0.8810 - val_loss: 0.2458 - val_accuracy: 0.8973\n",
            "Epoch 60/100\n",
            "37/37 [==============================] - 0s 2ms/step - loss: 0.2693 - accuracy: 0.8836 - val_loss: 0.2400 - val_accuracy: 0.9178\n",
            "Epoch 61/100\n",
            "37/37 [==============================] - 0s 2ms/step - loss: 0.2704 - accuracy: 0.8836 - val_loss: 0.2433 - val_accuracy: 0.9247\n",
            "Epoch 62/100\n",
            "37/37 [==============================] - 0s 2ms/step - loss: 0.2678 - accuracy: 0.8930 - val_loss: 0.2403 - val_accuracy: 0.9178\n",
            "Epoch 63/100\n",
            "37/37 [==============================] - 0s 2ms/step - loss: 0.2686 - accuracy: 0.8913 - val_loss: 0.2378 - val_accuracy: 0.9247\n",
            "Epoch 64/100\n",
            "37/37 [==============================] - 0s 2ms/step - loss: 0.2669 - accuracy: 0.8878 - val_loss: 0.2625 - val_accuracy: 0.8767\n",
            "Epoch 65/100\n",
            "37/37 [==============================] - 0s 2ms/step - loss: 0.2676 - accuracy: 0.8904 - val_loss: 0.2416 - val_accuracy: 0.8973\n",
            "Epoch 66/100\n",
            "37/37 [==============================] - 0s 2ms/step - loss: 0.2653 - accuracy: 0.8870 - val_loss: 0.2390 - val_accuracy: 0.9041\n",
            "Epoch 67/100\n",
            "37/37 [==============================] - 0s 2ms/step - loss: 0.2668 - accuracy: 0.8947 - val_loss: 0.2404 - val_accuracy: 0.8973\n",
            "Epoch 68/100\n",
            "37/37 [==============================] - 0s 2ms/step - loss: 0.2647 - accuracy: 0.8904 - val_loss: 0.2400 - val_accuracy: 0.9041\n",
            "Epoch 69/100\n",
            "37/37 [==============================] - 0s 2ms/step - loss: 0.2630 - accuracy: 0.8955 - val_loss: 0.2337 - val_accuracy: 0.9178\n",
            "Epoch 70/100\n",
            "37/37 [==============================] - 0s 2ms/step - loss: 0.2610 - accuracy: 0.8947 - val_loss: 0.2539 - val_accuracy: 0.8767\n",
            "Epoch 71/100\n",
            "37/37 [==============================] - 0s 2ms/step - loss: 0.2642 - accuracy: 0.8938 - val_loss: 0.3209 - val_accuracy: 0.8493\n",
            "Epoch 72/100\n",
            "37/37 [==============================] - 0s 2ms/step - loss: 0.2646 - accuracy: 0.8921 - val_loss: 0.2436 - val_accuracy: 0.8904\n",
            "Epoch 73/100\n",
            "37/37 [==============================] - 0s 2ms/step - loss: 0.2609 - accuracy: 0.8964 - val_loss: 0.2307 - val_accuracy: 0.9247\n",
            "Epoch 74/100\n",
            "37/37 [==============================] - 0s 2ms/step - loss: 0.2602 - accuracy: 0.8896 - val_loss: 0.2354 - val_accuracy: 0.9041\n",
            "Epoch 75/100\n",
            "37/37 [==============================] - 0s 2ms/step - loss: 0.2583 - accuracy: 0.8964 - val_loss: 0.2360 - val_accuracy: 0.9041\n",
            "Epoch 76/100\n",
            "37/37 [==============================] - 0s 2ms/step - loss: 0.2592 - accuracy: 0.8955 - val_loss: 0.2802 - val_accuracy: 0.8562\n",
            "Epoch 77/100\n",
            "37/37 [==============================] - 0s 2ms/step - loss: 0.2599 - accuracy: 0.8887 - val_loss: 0.2439 - val_accuracy: 0.8836\n",
            "Epoch 78/100\n",
            "37/37 [==============================] - 0s 2ms/step - loss: 0.2579 - accuracy: 0.8990 - val_loss: 0.2494 - val_accuracy: 0.8904\n",
            "Epoch 79/100\n",
            "37/37 [==============================] - 0s 2ms/step - loss: 0.2571 - accuracy: 0.8981 - val_loss: 0.2305 - val_accuracy: 0.9110\n",
            "Epoch 80/100\n",
            "37/37 [==============================] - 0s 2ms/step - loss: 0.2558 - accuracy: 0.8913 - val_loss: 0.2269 - val_accuracy: 0.9247\n",
            "Epoch 81/100\n",
            "37/37 [==============================] - 0s 2ms/step - loss: 0.2549 - accuracy: 0.8921 - val_loss: 0.3129 - val_accuracy: 0.8630\n",
            "Epoch 82/100\n",
            "37/37 [==============================] - 0s 2ms/step - loss: 0.2566 - accuracy: 0.8981 - val_loss: 0.2363 - val_accuracy: 0.8904\n",
            "Epoch 83/100\n",
            "37/37 [==============================] - 0s 2ms/step - loss: 0.2571 - accuracy: 0.8955 - val_loss: 0.2256 - val_accuracy: 0.9247\n",
            "Epoch 84/100\n",
            "37/37 [==============================] - 0s 2ms/step - loss: 0.2525 - accuracy: 0.8964 - val_loss: 0.2305 - val_accuracy: 0.8973\n",
            "Epoch 85/100\n",
            "37/37 [==============================] - 0s 2ms/step - loss: 0.2530 - accuracy: 0.8981 - val_loss: 0.2266 - val_accuracy: 0.9178\n",
            "Epoch 86/100\n",
            "37/37 [==============================] - 0s 1ms/step - loss: 0.2572 - accuracy: 0.8896 - val_loss: 0.2336 - val_accuracy: 0.8904\n",
            "Epoch 87/100\n",
            "37/37 [==============================] - 0s 2ms/step - loss: 0.2545 - accuracy: 0.8998 - val_loss: 0.2474 - val_accuracy: 0.8767\n",
            "Epoch 88/100\n",
            "37/37 [==============================] - 0s 2ms/step - loss: 0.2549 - accuracy: 0.8947 - val_loss: 0.2230 - val_accuracy: 0.9247\n",
            "Epoch 89/100\n",
            "37/37 [==============================] - 0s 2ms/step - loss: 0.2565 - accuracy: 0.8938 - val_loss: 0.2287 - val_accuracy: 0.9110\n",
            "Epoch 90/100\n",
            "37/37 [==============================] - 0s 2ms/step - loss: 0.2531 - accuracy: 0.8981 - val_loss: 0.2452 - val_accuracy: 0.8904\n",
            "Epoch 91/100\n",
            "37/37 [==============================] - 0s 2ms/step - loss: 0.2485 - accuracy: 0.8964 - val_loss: 0.2213 - val_accuracy: 0.9247\n",
            "Epoch 92/100\n",
            "37/37 [==============================] - 0s 2ms/step - loss: 0.2571 - accuracy: 0.8921 - val_loss: 0.2540 - val_accuracy: 0.8699\n",
            "Epoch 93/100\n",
            "37/37 [==============================] - 0s 2ms/step - loss: 0.2509 - accuracy: 0.9007 - val_loss: 0.2214 - val_accuracy: 0.9247\n",
            "Epoch 94/100\n",
            "37/37 [==============================] - 0s 2ms/step - loss: 0.2500 - accuracy: 0.9024 - val_loss: 0.2208 - val_accuracy: 0.9247\n",
            "Epoch 95/100\n",
            "37/37 [==============================] - 0s 2ms/step - loss: 0.2498 - accuracy: 0.8964 - val_loss: 0.2207 - val_accuracy: 0.9178\n",
            "Epoch 96/100\n",
            "37/37 [==============================] - 0s 2ms/step - loss: 0.2484 - accuracy: 0.8930 - val_loss: 0.2428 - val_accuracy: 0.8836\n",
            "Epoch 97/100\n",
            "37/37 [==============================] - 0s 2ms/step - loss: 0.2492 - accuracy: 0.8990 - val_loss: 0.2262 - val_accuracy: 0.9110\n",
            "Epoch 98/100\n",
            "37/37 [==============================] - 0s 2ms/step - loss: 0.2443 - accuracy: 0.8998 - val_loss: 0.2212 - val_accuracy: 0.9178\n",
            "Epoch 99/100\n",
            "37/37 [==============================] - 0s 2ms/step - loss: 0.2465 - accuracy: 0.9015 - val_loss: 0.2219 - val_accuracy: 0.9110\n",
            "Epoch 100/100\n",
            "37/37 [==============================] - 0s 2ms/step - loss: 0.2512 - accuracy: 0.8938 - val_loss: 0.2333 - val_accuracy: 0.8836\n"
          ],
          "name": "stdout"
        }
      ]
    },
    {
      "cell_type": "code",
      "metadata": {
        "id": "qd4B1mjFYCQE",
        "colab_type": "code",
        "colab": {
          "base_uri": "https://localhost:8080/",
          "height": 52
        },
        "outputId": "70799faa-ac7c-4a61-98b2-39ba9ace1e9e"
      },
      "source": [
        "model.evaluate(x_test,y_test)"
      ],
      "execution_count": 13,
      "outputs": [
        {
          "output_type": "stream",
          "text": [
            "5/5 [==============================] - 0s 2ms/step - loss: 0.2810 - accuracy: 0.8699\n"
          ],
          "name": "stdout"
        },
        {
          "output_type": "execute_result",
          "data": {
            "text/plain": [
              "[0.2809700071811676, 0.8698630332946777]"
            ]
          },
          "metadata": {
            "tags": []
          },
          "execution_count": 13
        }
      ]
    },
    {
      "cell_type": "code",
      "metadata": {
        "id": "PZNdZnHiYCTb",
        "colab_type": "code",
        "colab": {}
      },
      "source": [
        "prediction = model.predict(x_test)\n",
        "prediction = [1 if y>=.87 else 0 for y in prediction]"
      ],
      "execution_count": 16,
      "outputs": []
    },
    {
      "cell_type": "code",
      "metadata": {
        "id": "uLVPYCNCYCWn",
        "colab_type": "code",
        "colab": {
          "base_uri": "https://localhost:8080/",
          "height": 52
        },
        "outputId": "d04c9ab9-6680-4ff8-9647-63d4c705c0d7"
      },
      "source": [
        "print(prediction[0:5])\n",
        "print(y_test[0:5])"
      ],
      "execution_count": 17,
      "outputs": [
        {
          "output_type": "stream",
          "text": [
            "[0, 0, 0, 0, 1]\n",
            "[0 0 1 0 1]\n"
          ],
          "name": "stdout"
        }
      ]
    },
    {
      "cell_type": "code",
      "metadata": {
        "id": "kspYfAIWYCdD",
        "colab_type": "code",
        "colab": {
          "base_uri": "https://localhost:8080/",
          "height": 265
        },
        "outputId": "10d5297e-5773-432f-b374-117299a0902e"
      },
      "source": [
        "plt.plot(hist.history['loss'])\n",
        "plt.plot(hist.history['val_loss'])\n",
        "plt.show()"
      ],
      "execution_count": 18,
      "outputs": [
        {
          "output_type": "display_data",
          "data": {
            "image/png": "[encoded data removed]",
            "text/plain": [
              "<Figure size 432x288 with 1 Axes>"
            ]
          },
          "metadata": {
            "tags": [],
            "needs_background": "light"
          }
        }
      ]
    },
    {
      "cell_type": "code",
      "metadata": {
        "id": "vsuRO9cLcYWB",
        "colab_type": "code",
        "colab": {
          "base_uri": "https://localhost:8080/",
          "height": 265
        },
        "outputId": "9129d35e-0793-4080-f3e2-18e43d404260"
      },
      "source": [
        "plt.plot(hist.history['accuracy'])\n",
        "plt.plot(hist.history['val_accuracy'])\n",
        "plt.show()"
      ],
      "execution_count": 19,
      "outputs": [
        {
          "output_type": "display_data",
          "data": {
            "image/png": "[encoded data removed]",
            "text/plain": [
              "<Figure size 432x288 with 1 Axes>"
            ]
          },
          "metadata": {
            "tags": [],
            "needs_background": "light"
          }
        }
      ]
    },
    {
      "cell_type": "code",
      "metadata": {
        "id": "6GPADhUWcYcD",
        "colab_type": "code",
        "colab": {}
      },
      "source": [
        ""
      ],
      "execution_count": null,
      "outputs": []
    },
    {
      "cell_type": "code",
      "metadata": {
        "id": "hznVzcc7cYio",
        "colab_type": "code",
        "colab": {}
      },
      "source": [
        ""
      ],
      "execution_count": null,
      "outputs": []
    },
    {
      "cell_type": "code",
      "metadata": {
        "id": "0qIVQDC3cYmk",
        "colab_type": "code",
        "colab": {}
      },
      "source": [
        ""
      ],
      "execution_count": null,
      "outputs": []
    },
    {
      "cell_type": "code",
      "metadata": {
        "id": "WX2jglpHcYsx",
        "colab_type": "code",
        "colab": {}
      },
      "source": [
        ""
      ],
      "execution_count": null,
      "outputs": []
    },
    {
      "cell_type": "code",
      "metadata": {
        "id": "6zsplbK2cYwv",
        "colab_type": "code",
        "colab": {}
      },
      "source": [
        ""
      ],
      "execution_count": null,
      "outputs": []
    },
    {
      "cell_type": "code",
      "metadata": {
        "id": "T4dNmE5ocY8S",
        "colab_type": "code",
        "colab": {}
      },
      "source": [
        ""
      ],
      "execution_count": null,
      "outputs": []
    },
    {
      "cell_type": "code",
      "metadata": {
        "id": "LMTT5EZxcYp4",
        "colab_type": "code",
        "colab": {}
      },
      "source": [
        ""
      ],
      "execution_count": null,
      "outputs": []
    },
    {
      "cell_type": "code",
      "metadata": {
        "id": "1bnb9GdOcYf-",
        "colab_type": "code",
        "colab": {}
      },
      "source": [
        ""
      ],
      "execution_count": null,
      "outputs": []
    },
    {
      "cell_type": "code",
      "metadata": {
        "id": "_GqOXvVCcYZ0",
        "colab_type": "code",
        "colab": {}
      },
      "source": [
        ""
      ],
      "execution_count": null,
      "outputs": []
    },
    {
      "cell_type": "code",
      "metadata": {
        "id": "Xa7oeVHOcYS8",
        "colab_type": "code",
        "colab": {}
      },
      "source": [
        ""
      ],
      "execution_count": null,
      "outputs": []
    },
    {
      "cell_type": "code",
      "metadata": {
        "id": "VJSsWmYNYCgg",
        "colab_type": "code",
        "colab": {}
      },
      "source": [
        ""
      ],
      "execution_count": null,
      "outputs": []
    },
    {
      "cell_type": "code",
      "metadata": {
        "id": "U_D3P0IyYCkP",
        "colab_type": "code",
        "colab": {}
      },
      "source": [
        ""
      ],
      "execution_count": null,
      "outputs": []
    },
    {
      "cell_type": "code",
      "metadata": {
        "id": "KzGkFc_AYC4F",
        "colab_type": "code",
        "colab": {}
      },
      "source": [
        ""
      ],
      "execution_count": null,
      "outputs": []
    },
    {
      "cell_type": "code",
      "metadata": {
        "id": "CzhR556wYCau",
        "colab_type": "code",
        "colab": {}
      },
      "source": [
        ""
      ],
      "execution_count": null,
      "outputs": []
    },
    {
      "cell_type": "code",
      "metadata": {
        "id": "r230tS67XCjN",
        "colab_type": "code",
        "colab": {}
      },
      "source": [
        ""
      ],
      "execution_count": null,
      "outputs": []
    },
    {
      "cell_type": "code",
      "metadata": {
        "id": "R33kQhUuXCov",
        "colab_type": "code",
        "colab": {}
      },
      "source": [
        ""
      ],
      "execution_count": null,
      "outputs": []
    },
    {
      "cell_type": "code",
      "metadata": {
        "id": "U26znLXhXCsR",
        "colab_type": "code",
        "colab": {}
      },
      "source": [
        ""
      ],
      "execution_count": null,
      "outputs": []
    },
    {
      "cell_type": "code",
      "metadata": {
        "id": "Ln6ruDABXCxh",
        "colab_type": "code",
        "colab": {}
      },
      "source": [
        ""
      ],
      "execution_count": null,
      "outputs": []
    },
    {
      "cell_type": "code",
      "metadata": {
        "id": "opJpsi8tXC57",
        "colab_type": "code",
        "colab": {}
      },
      "source": [
        ""
      ],
      "execution_count": null,
      "outputs": []
    },
    {
      "cell_type": "code",
      "metadata": {
        "id": "ie7SRmVRXC9k",
        "colab_type": "code",
        "colab": {}
      },
      "source": [
        ""
      ],
      "execution_count": null,
      "outputs": []
    },
    {
      "cell_type": "code",
      "metadata": {
        "id": "_A9ab5SEXDAx",
        "colab_type": "code",
        "colab": {}
      },
      "source": [
        ""
      ],
      "execution_count": null,
      "outputs": []
    },
    {
      "cell_type": "code",
      "metadata": {
        "id": "LEpSKxLpXC3C",
        "colab_type": "code",
        "colab": {}
      },
      "source": [
        ""
      ],
      "execution_count": null,
      "outputs": []
    },
    {
      "cell_type": "code",
      "metadata": {
        "id": "29TIHD3-XC1z",
        "colab_type": "code",
        "colab": {}
      },
      "source": [
        ""
      ],
      "execution_count": null,
      "outputs": []
    },
    {
      "cell_type": "code",
      "metadata": {
        "id": "6B3ekyw2XCvh",
        "colab_type": "code",
        "colab": {}
      },
      "source": [
        ""
      ],
      "execution_count": null,
      "outputs": []
    },
    {
      "cell_type": "code",
      "metadata": {
        "id": "dvzyHtIHXCmr",
        "colab_type": "code",
        "colab": {}
      },
      "source": [
        ""
      ],
      "execution_count": null,
      "outputs": []
    },
    {
      "cell_type": "code",
      "metadata": {
        "id": "5DCwBQDaXCeN",
        "colab_type": "code",
        "colab": {}
      },
      "source": [
        ""
      ],
      "execution_count": null,
      "outputs": []
    },
    {
      "cell_type": "code",
      "metadata": {
        "id": "0NiRs8l9XCat",
        "colab_type": "code",
        "colab": {}
      },
      "source": [
        ""
      ],
      "execution_count": null,
      "outputs": []
    },
    {
      "cell_type": "code",
      "metadata": {
        "id": "Atgg-9LcU3BI",
        "colab_type": "code",
        "colab": {}
      },
      "source": [
        ""
      ],
      "execution_count": null,
      "outputs": []
    },
    {
      "cell_type": "code",
      "metadata": {
        "id": "zNivhb36U3ER",
        "colab_type": "code",
        "colab": {}
      },
      "source": [
        ""
      ],
      "execution_count": null,
      "outputs": []
    },
    {
      "cell_type": "code",
      "metadata": {
        "id": "oFfUvU1MU3HT",
        "colab_type": "code",
        "colab": {}
      },
      "source": [
        ""
      ],
      "execution_count": null,
      "outputs": []
    },
    {
      "cell_type": "code",
      "metadata": {
        "id": "NlpqoiAZU3M4",
        "colab_type": "code",
        "colab": {}
      },
      "source": [
        ""
      ],
      "execution_count": null,
      "outputs": []
    },
    {
      "cell_type": "code",
      "metadata": {
        "id": "_46yJGLAU3Kw",
        "colab_type": "code",
        "colab": {}
      },
      "source": [
        ""
      ],
      "execution_count": null,
      "outputs": []
    }
  ]
}